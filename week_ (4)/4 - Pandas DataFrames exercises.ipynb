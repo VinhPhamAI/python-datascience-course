{
 "cells": [
  {
   "cell_type": "markdown",
   "metadata": {},
   "source": [
    "![rmotr](https://user-images.githubusercontent.com/7065401/52071918-bda15380-2562-11e9-828c-7f95297e4a82.png)\n",
    "<hr style=\"margin-bottom: 40px;\">\n",
    "\n",
    "# Pandas DataFrame exercises\n"
   ]
  },
  {
   "cell_type": "code",
   "execution_count": 296,
   "metadata": {},
   "outputs": [
    {
     "name": "stdout",
     "output_type": "stream",
     "text": [
      "1.5.3\n"
     ]
    }
   ],
   "source": [
    "# Import the numpy package under the name np\n",
    "import numpy as np\n",
    "\n",
    "# Import the pandas package under the name pd\n",
    "import pandas as pd\n",
    "\n",
    "# Import the matplotlib package under the name plt\n",
    "import matplotlib.pyplot as plt\n",
    "%matplotlib inline\n",
    "\n",
    "# Print the pandas version and the configuration\n",
    "print(pd.__version__)"
   ]
  },
  {
   "cell_type": "markdown",
   "metadata": {},
   "source": [
    "![purple-divider](https://user-images.githubusercontent.com/7065401/52071927-c1cd7100-2562-11e9-908a-dde91ba14e59.png)\n",
    "\n",
    "## DataFrame creation"
   ]
  },
  {
   "cell_type": "markdown",
   "metadata": {},
   "source": [
    "### Create an empty pandas DataFrame\n"
   ]
  },
  {
   "cell_type": "code",
   "execution_count": 297,
   "metadata": {},
   "outputs": [],
   "source": [
    "# your code goes here\n",
    "data = pd.DataFrame(data=[None],\n",
    "             index=[None],\n",
    "             columns=[None])"
   ]
  },
  {
   "cell_type": "code",
   "execution_count": 298,
   "metadata": {
    "cell_type": "solution"
   },
   "outputs": [],
   "source": [
    "df = pd.DataFrame(data=[None],\n",
    "             index=[None],\n",
    "             columns=[None])"
   ]
  },
  {
   "cell_type": "code",
   "execution_count": 299,
   "metadata": {},
   "outputs": [],
   "source": [
    "assert df is not None"
   ]
  },
  {
   "cell_type": "markdown",
   "metadata": {},
   "source": [
    "<img width=400 src=\"https://cdn.dribbble.com/users/4678/screenshots/1986600/avengers.png\"></img>"
   ]
  },
  {
   "cell_type": "markdown",
   "metadata": {},
   "source": [
    "![green-divider](https://user-images.githubusercontent.com/7065401/52071924-c003ad80-2562-11e9-8297-1c6595f8a7ff.png)\n",
    "\n",
    "\n",
    "### Create a `marvel_df` pandas DataFrame with the given marvel data\n"
   ]
  },
  {
   "cell_type": "code",
   "execution_count": 300,
   "metadata": {},
   "outputs": [],
   "source": [
    "marvel_data = [\n",
    "    ['Spider-Man', 'male', 1962],\n",
    "    ['Captain America', 'male', 1941],\n",
    "    ['Wolverine', 'male', 1974],\n",
    "    ['Iron Man', 'male', 1963],\n",
    "    ['Thor', 'male', 1963],\n",
    "    ['Thing', 'male', 1961],\n",
    "    ['Mister Fantastic', 'male', 1961],\n",
    "    ['Hulk', 'male', 1962],\n",
    "    ['Beast', 'male', 1963],\n",
    "    ['Invisible Woman', 'female', 1961],\n",
    "    ['Storm', 'female', 1975],\n",
    "    ['Namor', 'male', 1939],\n",
    "    ['Hawkeye', 'male', 1964],\n",
    "    ['Daredevil', 'male', 1964],\n",
    "    ['Doctor Strange', 'male', 1963],\n",
    "    ['Hank Pym', 'male', 1962],\n",
    "    ['Scarlet Witch', 'female', 1964],\n",
    "    ['Wasp', 'female', 1963],\n",
    "    ['Black Widow', 'female', 1964],\n",
    "    ['Vision', 'male', 1968]\n",
    "]"
   ]
  },
  {
   "cell_type": "code",
   "execution_count": 301,
   "metadata": {},
   "outputs": [],
   "source": [
    "# your code goes here\n",
    "marvel_df = pd.DataFrame(marvel_data, columns=['Name', 'Gender', 'Date'])"
   ]
  },
  {
   "cell_type": "code",
   "execution_count": 302,
   "metadata": {},
   "outputs": [],
   "source": [
    "assert (marvel_df.values == marvel_data).any()"
   ]
  },
  {
   "cell_type": "markdown",
   "metadata": {},
   "source": [
    "![green-divider](https://user-images.githubusercontent.com/7065401/52071924-c003ad80-2562-11e9-8297-1c6595f8a7ff.png)\n",
    "\n",
    "### Add column names to the `marvel_df`\n",
    " "
   ]
  },
  {
   "cell_type": "code",
   "execution_count": 303,
   "metadata": {},
   "outputs": [],
   "source": [
    "# your code goes here\n",
    "col_names = ['name', 'sex', 'first_appearance']\n",
    "marvel_df = pd.DataFrame(marvel_data,columns = col_names)"
   ]
  },
  {
   "cell_type": "code",
   "execution_count": 304,
   "metadata": {
    "cell_type": "solution"
   },
   "outputs": [],
   "source": [
    "assert (marvel_df.columns == col_names).all()"
   ]
  },
  {
   "cell_type": "markdown",
   "metadata": {},
   "source": [
    "![green-divider](https://user-images.githubusercontent.com/7065401/52071924-c003ad80-2562-11e9-8297-1c6595f8a7ff.png)\n",
    "\n",
    "### Add index names to the `marvel_df` (use the character name as index)\n"
   ]
  },
  {
   "cell_type": "code",
   "execution_count": 305,
   "metadata": {},
   "outputs": [],
   "source": [
    "marvel_df.index = [\n",
    "    'Spider-Man',\n",
    "    'Captain America',\n",
    "    'Wolverine',\n",
    "    'Iron Man',\n",
    "    'Thor',\n",
    "    'Thing',\n",
    "    'Mister Fantastic',\n",
    "    'Hulk',\n",
    "    'Beast',\n",
    "    'Invisible Woman',\n",
    "    'Storm',\n",
    "    'Namor',\n",
    "    'Hawkeye',\n",
    "    'Daredevil',\n",
    "    'Doctor Strange',\n",
    "    'Hank Pym',\n",
    "    'Scarlet Witch',\n",
    "    'Wasp',\n",
    "    'Black Widow',\n",
    "    'Vision',\n",
    "]"
   ]
  },
  {
   "cell_type": "code",
   "execution_count": 306,
   "metadata": {},
   "outputs": [],
   "source": [
    "assert (marvel_df.index == marvel_df['name']).all()"
   ]
  },
  {
   "cell_type": "markdown",
   "metadata": {},
   "source": [
    "![green-divider](https://user-images.githubusercontent.com/7065401/52071924-c003ad80-2562-11e9-8297-1c6595f8a7ff.png)\n",
    "\n",
    "### Drop the name column as it's now the index"
   ]
  },
  {
   "cell_type": "code",
   "execution_count": 307,
   "metadata": {
    "cell_type": "solution"
   },
   "outputs": [],
   "source": [
    "marvel_df = marvel_df.iloc[:, 1:]"
   ]
  },
  {
   "cell_type": "code",
   "execution_count": 308,
   "metadata": {},
   "outputs": [],
   "source": [
    "assert (marvel_df.columns == col_names[1:]).all()"
   ]
  },
  {
   "cell_type": "markdown",
   "metadata": {},
   "source": [
    "![green-divider](https://user-images.githubusercontent.com/7065401/52071924-c003ad80-2562-11e9-8297-1c6595f8a7ff.png)\n",
    "\n",
    "### Drop 'Namor' and 'Hank Pym' rows\n"
   ]
  },
  {
   "cell_type": "code",
   "execution_count": 309,
   "metadata": {},
   "outputs": [],
   "source": [
    "marvel_df = marvel_df.drop(['Namor', 'Hank Pym'], axis = 0)"
   ]
  },
  {
   "cell_type": "code",
   "execution_count": 310,
   "metadata": {},
   "outputs": [],
   "source": [
    "# check if the rows have been dropped\n",
    "assert not marvel_df.index.isin(['Namor', 'Hank Pym']).all() "
   ]
  },
  {
   "cell_type": "markdown",
   "metadata": {},
   "source": [
    "![purple-divider](https://user-images.githubusercontent.com/7065401/52071927-c1cd7100-2562-11e9-908a-dde91ba14e59.png)\n",
    "\n",
    "## DataFrame selection, slicing and indexation"
   ]
  },
  {
   "cell_type": "markdown",
   "metadata": {},
   "source": [
    "### Show the first 5 elements on `marvel_df`\n",
    " "
   ]
  },
  {
   "cell_type": "code",
   "execution_count": 311,
   "metadata": {
    "cell_type": "solution"
   },
   "outputs": [],
   "source": [
    "marvel_df.head()"
   ]
  },
  {
   "cell_type": "markdown",
   "metadata": {},
   "source": [
    "![green-divider](https://user-images.githubusercontent.com/7065401/52071924-c003ad80-2562-11e9-8297-1c6595f8a7ff.png)\n",
    "\n",
    "### Show the last 5 elements on `marvel_df`\n"
   ]
  },
  {
   "cell_type": "code",
   "execution_count": 312,
   "metadata": {},
   "outputs": [],
   "source": [
    "last_five = marvel_df.tail()"
   ]
  },
  {
   "cell_type": "code",
   "execution_count": 313,
   "metadata": {},
   "outputs": [],
   "source": [
    "assert (last_five.index == ['Doctor Strange', 'Scarlet Witch', 'Wasp', 'Black Widow', 'Vision']).all()"
   ]
  },
  {
   "cell_type": "markdown",
   "metadata": {},
   "source": [
    "![green-divider](https://user-images.githubusercontent.com/7065401/52071924-c003ad80-2562-11e9-8297-1c6595f8a7ff.png)\n",
    "\n",
    "### Show just the sex of the first 5 elements on `marvel_df`"
   ]
  },
  {
   "cell_type": "code",
   "execution_count": 314,
   "metadata": {},
   "outputs": [],
   "source": [
    "gender = marvel_df[['sex']].head()"
   ]
  },
  {
   "cell_type": "code",
   "execution_count": 315,
   "metadata": {},
   "outputs": [],
   "source": [
    "assert np.unique(gender.values) == 'male'"
   ]
  },
  {
   "cell_type": "markdown",
   "metadata": {},
   "source": [
    "![green-divider](https://user-images.githubusercontent.com/7065401/52071924-c003ad80-2562-11e9-8297-1c6595f8a7ff.png)\n",
    "\n",
    "### Show the first_appearance of all middle elements on `marvel_df` "
   ]
  },
  {
   "cell_type": "code",
   "execution_count": 316,
   "metadata": {},
   "outputs": [],
   "source": [
    "value = marvel_df.iloc[1:-1]"
   ]
  },
  {
   "cell_type": "code",
   "execution_count": 317,
   "metadata": {},
   "outputs": [],
   "source": [
    "assert (value.index == ['Captain America', 'Wolverine', 'Iron Man', 'Thor', 'Thing',\n",
    "       'Mister Fantastic', 'Hulk', 'Beast', 'Invisible Woman', 'Storm',\n",
    "       'Hawkeye', 'Daredevil', 'Doctor Strange', 'Scarlet Witch', 'Wasp',\n",
    "       'Black Widow']).all()"
   ]
  },
  {
   "cell_type": "markdown",
   "metadata": {},
   "source": [
    "![green-divider](https://user-images.githubusercontent.com/7065401/52071924-c003ad80-2562-11e9-8297-1c6595f8a7ff.png)\n",
    "\n",
    "### Show the first and last elements on `marvel_df`\n"
   ]
  },
  {
   "cell_type": "code",
   "execution_count": 318,
   "metadata": {},
   "outputs": [],
   "source": [
    "# your code goes here\n",
    "first_last = marvel_df.iloc[[0,-1]]"
   ]
  },
  {
   "cell_type": "code",
   "execution_count": 319,
   "metadata": {},
   "outputs": [],
   "source": [
    "assert (first_last.index == [\"Spider-Man\", \"Vision\"]).all()"
   ]
  },
  {
   "cell_type": "markdown",
   "metadata": {},
   "source": [
    "![purple-divider](https://user-images.githubusercontent.com/7065401/52071927-c1cd7100-2562-11e9-908a-dde91ba14e59.png)\n",
    "\n",
    "## DataFrame manipulation and operations"
   ]
  },
  {
   "cell_type": "markdown",
   "metadata": {},
   "source": [
    "### Modify the `first_appearance` of 'Vision' to year 1964"
   ]
  },
  {
   "cell_type": "code",
   "execution_count": 320,
   "metadata": {
    "cell_type": "solution"
   },
   "outputs": [],
   "source": [
    "marvel_df.loc['Vision', 'first_appearance'] = 1964"
   ]
  },
  {
   "cell_type": "code",
   "execution_count": 321,
   "metadata": {},
   "outputs": [],
   "source": [
    "assert marvel_df.loc['Vision', 'first_appearance'] == 1964"
   ]
  },
  {
   "cell_type": "markdown",
   "metadata": {},
   "source": [
    "![green-divider](https://user-images.githubusercontent.com/7065401/52071924-c003ad80-2562-11e9-8297-1c6595f8a7ff.png)\n",
    "\n",
    "### Add a new column to `marvel_df` called 'years_since' with the years since `first_appearance`\n"
   ]
  },
  {
   "cell_type": "code",
   "execution_count": 322,
   "metadata": {
    "cell_type": "solution"
   },
   "outputs": [],
   "source": [
    "marvel_df['years_since'] = 2023 - marvel_df['first_appearance']"
   ]
  },
  {
   "cell_type": "markdown",
   "metadata": {},
   "source": [
    "![green-divider](https://user-images.githubusercontent.com/7065401/52071924-c003ad80-2562-11e9-8297-1c6595f8a7ff.png)\n",
    "\n",
    "### Given the `marvel_df` pandas DataFrame, get the male characters\n"
   ]
  },
  {
   "cell_type": "code",
   "execution_count": 323,
   "metadata": {},
   "outputs": [],
   "source": [
    "all_man = marvel_df[marvel_df['sex'] == 'male']"
   ]
  },
  {
   "cell_type": "code",
   "execution_count": 324,
   "metadata": {},
   "outputs": [],
   "source": [
    "assert all_man['sex'].unique() == \"male\""
   ]
  },
  {
   "cell_type": "markdown",
   "metadata": {},
   "source": [
    "![green-divider](https://user-images.githubusercontent.com/7065401/52071924-c003ad80-2562-11e9-8297-1c6595f8a7ff.png)\n",
    "\n",
    "### Given the `marvel_df` pandas DataFrame, get the characters with `first_appearance` after 1970\n"
   ]
  },
  {
   "cell_type": "code",
   "execution_count": 325,
   "metadata": {},
   "outputs": [],
   "source": [
    "# your code goes here\n",
    "mask = marvel_df['first_appearance'] > 1970\n",
    "after = marvel_df[mask]"
   ]
  },
  {
   "cell_type": "code",
   "execution_count": 326,
   "metadata": {},
   "outputs": [],
   "source": [
    "assert after['first_appearance'].min() > 1970"
   ]
  },
  {
   "cell_type": "markdown",
   "metadata": {},
   "source": [
    "![green-divider](https://user-images.githubusercontent.com/7065401/52071924-c003ad80-2562-11e9-8297-1c6595f8a7ff.png)\n",
    "\n",
    "### Given the `marvel_df` pandas DataFrame, get the female characters with `first_appearance` after 1970"
   ]
  },
  {
   "cell_type": "code",
   "execution_count": 327,
   "metadata": {},
   "outputs": [],
   "source": [
    "# your code goes here\n",
    "result = marvel_df.loc[(marvel_df['sex'] == 'female') & (marvel_df['first_appearance'] > 1970)]"
   ]
  },
  {
   "cell_type": "code",
   "execution_count": 328,
   "metadata": {},
   "outputs": [],
   "source": [
    "assert result['sex'].unique() == 'female' and result['first_appearance'].min() > 1970"
   ]
  },
  {
   "cell_type": "markdown",
   "metadata": {},
   "source": [
    "![purple-divider](https://user-images.githubusercontent.com/7065401/52071927-c1cd7100-2562-11e9-908a-dde91ba14e59.png)\n",
    "\n",
    "## DataFrame summary statistics"
   ]
  },
  {
   "cell_type": "markdown",
   "metadata": {},
   "source": [
    "### Show basic statistics of `marvel_df`"
   ]
  },
  {
   "cell_type": "code",
   "execution_count": 329,
   "metadata": {
    "cell_type": "solution"
   },
   "outputs": [],
   "source": [
    "marvel_df.describe()"
   ]
  },
  {
   "cell_type": "markdown",
   "metadata": {},
   "source": [
    "![green-divider](https://user-images.githubusercontent.com/7065401/52071924-c003ad80-2562-11e9-8297-1c6595f8a7ff.png)\n",
    "\n",
    "### Given the `marvel_df` pandas DataFrame, show the mean value of `first_appearance`"
   ]
  },
  {
   "cell_type": "code",
   "execution_count": 330,
   "metadata": {},
   "outputs": [],
   "source": [
    "# your code goes here\n",
    "mean = marvel_df['first_appearace'].mean()"
   ]
  },
  {
   "cell_type": "code",
   "execution_count": 331,
   "metadata": {},
   "outputs": [],
   "source": [
    "assert np.round(mean) == 1963"
   ]
  },
  {
   "cell_type": "markdown",
   "metadata": {},
   "source": [
    "![green-divider](https://user-images.githubusercontent.com/7065401/52071924-c003ad80-2562-11e9-8297-1c6595f8a7ff.png)\n",
    "\n",
    "### Given the `marvel_df` pandas DataFrame, show the min value of `first_appearance`\n"
   ]
  },
  {
   "cell_type": "code",
   "execution_count": 333,
   "metadata": {},
   "outputs": [],
   "source": [
    "# your code goes here\n",
    "min = marvel_df['first_appearace'].mean()"
   ]
  },
  {
   "cell_type": "code",
   "execution_count": 334,
   "metadata": {},
   "outputs": [],
   "source": [
    "assert min == 1941"
   ]
  },
  {
   "cell_type": "markdown",
   "metadata": {},
   "source": [
    "![green-divider](https://user-images.githubusercontent.com/7065401/52071924-c003ad80-2562-11e9-8297-1c6595f8a7ff.png)\n",
    "\n",
    "### Given the `marvel_df` pandas DataFrame, get the characters with the min value of `first_appearance`"
   ]
  },
  {
   "cell_type": "code",
   "execution_count": 335,
   "metadata": {},
   "outputs": [],
   "source": [
    "# your code goes here\n",
    "min_first_appearance = marvel_df['first_appearance'].idxmin()\n",
    "characters_min_first_appearance = marvel_df.loc[min_first_appearance]"
   ]
  },
  {
   "cell_type": "markdown",
   "metadata": {},
   "source": [
    "![purple-divider](https://user-images.githubusercontent.com/7065401/52071927-c1cd7100-2562-11e9-908a-dde91ba14e59.png)\n",
    "\n",
    "## DataFrame basic plottings"
   ]
  },
  {
   "cell_type": "markdown",
   "metadata": {},
   "source": [
    "### Reset index names of `marvel_df`\n"
   ]
  },
  {
   "cell_type": "code",
   "execution_count": 341,
   "metadata": {
    "cell_type": "solution"
   },
   "outputs": [],
   "source": [
    "marvel_df = marvel_df.reset_index()\n",
    "\n",
    "marvel_df"
   ]
  },
  {
   "cell_type": "markdown",
   "metadata": {},
   "source": [
    "![green-divider](https://user-images.githubusercontent.com/7065401/52071924-c003ad80-2562-11e9-8297-1c6595f8a7ff.png)\n",
    "\n",
    "### Plot the values of `first_appearance`\n"
   ]
  },
  {
   "cell_type": "code",
   "execution_count": 342,
   "metadata": {
    "cell_type": "solution"
   },
   "outputs": [],
   "source": [
    "marvel_df['first_appearance'].plot(kind='line', color='red')\n",
    "plt.title('First Appearance of Marvel Characters')\n",
    "plt.xlabel('Character')\n",
    "plt.ylabel('Year')\n",
    "plt.show()"
   ]
  },
  {
   "cell_type": "markdown",
   "metadata": {},
   "source": [
    "![green-divider](https://user-images.githubusercontent.com/7065401/52071924-c003ad80-2562-11e9-8297-1c6595f8a7ff.png)\n",
    "\n",
    "### Plot a histogram (plot.hist) with values of `first_appearance`\n"
   ]
  },
  {
   "cell_type": "code",
   "execution_count": 343,
   "metadata": {
    "cell_type": "solution"
   },
   "outputs": [],
   "source": [
    "marvel_df['first_appearance'].plot.hist()\n",
    "plt.show()"
   ]
  },
  {
   "cell_type": "markdown",
   "metadata": {},
   "source": [
    "![purple-divider](https://user-images.githubusercontent.com/7065401/52071927-c1cd7100-2562-11e9-908a-dde91ba14e59.png)\n"
   ]
  }
 ],
 "metadata": {
  "kernelspec": {
   "display_name": "Python 3 (ipykernel)",
   "language": "python",
   "name": "python3"
  },
  "language_info": {
   "codemirror_mode": {
    "name": "ipython",
    "version": 3
   },
   "file_extension": ".py",
   "mimetype": "text/x-python",
   "name": "python",
   "nbconvert_exporter": "python",
   "pygments_lexer": "ipython3",
   "version": "3.10.10"
  }
 },
 "nbformat": 4,
 "nbformat_minor": 4
}
